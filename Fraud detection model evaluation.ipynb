{
 "cells": [
  {
   "cell_type": "markdown",
   "id": "dce641db",
   "metadata": {},
   "source": [
    "# Model evaluation using smote technique and random forest algorithm"
   ]
  },
  {
   "cell_type": "code",
   "execution_count": 2,
   "id": "7c883a1e",
   "metadata": {},
   "outputs": [],
   "source": [
    "import pandas as pd\n",
    "import numpy as np\n",
    "import matplotlib.pyplot as plt\n",
    "import plotly.express as px\n",
    "import matplotlib.ticker as mtick\n",
    "import seaborn as sns\n",
    "from imblearn.over_sampling import SMOTE\n",
    "from sklearn.metrics import roc_curve, auc\n",
    "from statsmodels.stats.outliers_influence import variance_inflation_factor\n",
    "from sklearn.model_selection import train_test_split\n",
    "from sklearn.preprocessing import StandardScaler, OneHotEncoder\n",
    "from sklearn.compose import ColumnTransformer\n",
    "from sklearn.linear_model import LogisticRegression\n",
    "from sklearn.ensemble import RandomForestClassifier\n",
    "from sklearn.svm import SVC\n",
    "from sklearn.neighbors import KNeighborsClassifier\n",
    "from sklearn.metrics import accuracy_score, precision_score, recall_score, f1_score, roc_auc_score, confusion_matrix\n"
   ]
  },
  {
   "cell_type": "code",
   "execution_count": 3,
   "id": "fe18fd71",
   "metadata": {},
   "outputs": [],
   "source": [
    "# Load the dataset\n",
    "data = pd.read_csv(\"C:\\\\Users\\\\Naresh\\\\Downloads\\\\Fraud.csv\")"
   ]
  },
  {
   "cell_type": "code",
   "execution_count": 4,
   "id": "aa048f09",
   "metadata": {},
   "outputs": [
    {
     "name": "stdout",
     "output_type": "stream",
     "text": [
      "Missing Values:\n",
      " step              0\n",
      "type              0\n",
      "amount            0\n",
      "nameOrig          0\n",
      "oldbalanceOrg     0\n",
      "newbalanceOrig    0\n",
      "nameDest          0\n",
      "oldbalanceDest    0\n",
      "newbalanceDest    0\n",
      "isFraud           0\n",
      "isFlaggedFraud    0\n",
      "dtype: int64\n",
      "Number of Duplicate Rows: 0\n"
     ]
    }
   ],
   "source": [
    "# Check for missing values\n",
    "missing_values = data.isnull().sum()\n",
    "print(\"Missing Values:\\n\", missing_values)\n",
    "\n",
    "# Drop rows with missing values (if applicable)\n",
    "data.dropna(inplace=True)\n",
    "\n",
    "# Check for duplicate rows\n",
    "duplicate_rows = data.duplicated().sum()\n",
    "print(\"Number of Duplicate Rows:\", duplicate_rows)\n",
    "\n",
    "# Remove duplicates (if applicable)\n",
    "data.drop_duplicates(inplace=True)\n",
    "\n",
    "# Outlier Handling (example using Z-score)\n",
    "# Calculate Z-score for 'amount' and 'oldbalanceOrg'\n",
    "z_scores = data[['amount', 'oldbalanceOrg']].apply(lambda x: (x - x.mean()) / x.std())\n",
    "\n",
    "# Set a threshold for Z-score (e.g., 3) to identify outliers\n",
    "threshold = 3\n",
    "outliers = (z_scores.abs() > threshold).any(axis=1)\n",
    "\n",
    "# Remove outliers\n",
    "data = data[~outliers]\n",
    "\n",
    "# Reset the index after cleaning\n",
    "data.reset_index(drop=True, inplace=True)"
   ]
  },
  {
   "cell_type": "code",
   "execution_count": 5,
   "id": "9fc17364",
   "metadata": {},
   "outputs": [
    {
     "name": "stdout",
     "output_type": "stream",
     "text": [
      "Model Evaluation Metrics:\n",
      "Accuracy: 0.9993\n",
      "Precision: 0.6165\n",
      "Recall: 0.9447\n",
      "F1 Score: 0.7461\n",
      "AUC-ROC Score: 0.9720\n",
      "Confusion Matrix:\n",
      "[[1230444     787]\n",
      " [     74    1265]]\n"
     ]
    }
   ],
   "source": [
    "# Drop 'nameOrig' and 'nameDest' columns as they contain string values and may not be relevant\n",
    "data.drop(['nameOrig', 'nameDest'], axis=1, inplace=True)\n",
    "\n",
    "# Perform one-hot encoding on the 'type' column\n",
    "data = pd.get_dummies(data, columns=['type'], drop_first=True)\n",
    "\n",
    "# Define the features (X) and target (y)\n",
    "X = data.drop('isFraud', axis=1)\n",
    "y = data['isFraud']\n",
    "\n",
    "# Split the data into training and validation sets\n",
    "X_train, X_val, y_train, y_val = train_test_split(X, y, test_size=0.2, random_state=42)\n",
    "\n",
    "# Initialize the SMOTE resampler\n",
    "smote = SMOTE(random_state=42)\n",
    "\n",
    "# Resample the training data to balance the classes\n",
    "X_train_resampled, y_train_resampled = smote.fit_resample(X_train, y_train)\n",
    "\n",
    "# Initialize the Random Forest model\n",
    "rf_model = RandomForestClassifier(random_state=42)\n",
    "\n",
    "# Train the model on the resampled training data\n",
    "rf_model.fit(X_train_resampled, y_train_resampled)\n",
    "\n",
    "# Predict on the validation data\n",
    "y_pred = rf_model.predict(X_val)\n",
    "\n",
    "# Model Evaluation\n",
    "accuracy = accuracy_score(y_val, y_pred)\n",
    "precision = precision_score(y_val, y_pred)\n",
    "recall = recall_score(y_val, y_pred)\n",
    "f1 = f1_score(y_val, y_pred)\n",
    "roc_auc = roc_auc_score(y_val, y_pred)\n",
    "conf_matrix = confusion_matrix(y_val, y_pred)\n",
    "\n",
    "print(\"Model Evaluation Metrics:\")\n",
    "print(f\"Accuracy: {accuracy:.4f}\")\n",
    "print(f\"Precision: {precision:.4f}\")\n",
    "print(f\"Recall: {recall:.4f}\")\n",
    "print(f\"F1 Score: {f1:.4f}\")\n",
    "print(f\"AUC-ROC Score: {roc_auc:.4f}\")\n",
    "\n",
    "print(\"Confusion Matrix:\")\n",
    "print(conf_matrix)\n"
   ]
  },
  {
   "cell_type": "code",
   "execution_count": 6,
   "id": "ef99b54c",
   "metadata": {},
   "outputs": [
    {
     "data": {
      "image/png": "[encoded data removed]",
      "text/plain": [
       "<Figure size 576x432 with 1 Axes>"
      ]
     },
     "metadata": {
      "needs_background": "light"
     },
     "output_type": "display_data"
    }
   ],
   "source": [
    "# Step 1: Confusion Matrix Visualization\n",
    "conf_matrix = confusion_matrix(y_val, y_pred)\n",
    "\n",
    "plt.figure(figsize=(8, 6))\n",
    "sns.heatmap(conf_matrix, annot=True, fmt=\"d\", cmap=\"Blues\", cbar=False)\n",
    "plt.xlabel(\"Predicted Labels\")\n",
    "plt.ylabel(\"True Labels\")\n",
    "plt.title(\"Confusion Matrix\")\n",
    "plt.show()"
   ]
  },
  {
   "cell_type": "code",
   "execution_count": 7,
   "id": "6276f177",
   "metadata": {},
   "outputs": [
    {
     "data": {
      "image/png": "[encoded data removed]",
      "text/plain": [
       "<Figure size 576x432 with 1 Axes>"
      ]
     },
     "metadata": {
      "needs_background": "light"
     },
     "output_type": "display_data"
    }
   ],
   "source": [
    "# Step 2: ROC Curve Visualization\n",
    "y_prob = rf_model.predict_proba(X_val)[:, 1]\n",
    "fpr, tpr, thresholds = roc_curve(y_val, y_prob)\n",
    "roc_auc = auc(fpr, tpr)\n",
    "\n",
    "plt.figure(figsize=(8, 6))\n",
    "plt.plot(fpr, tpr, color='blue', lw=2, label='ROC curve (AUC = %0.4f)' % roc_auc)\n",
    "plt.plot([0, 1], [0, 1], color='gray', lw=2, linestyle='--')\n",
    "plt.xlabel('False Positive Rate')\n",
    "plt.ylabel('True Positive Rate')\n",
    "plt.title('ROC Curve')\n",
    "plt.legend(loc='lower right')\n",
    "plt.show()"
   ]
  },
  {
   "cell_type": "code",
   "execution_count": 8,
   "id": "7726dcca",
   "metadata": {},
   "outputs": [
    {
     "name": "stdout",
     "output_type": "stream",
     "text": [
      "Model Evaluation Metrics:\n",
      "Accuracy: 0.9993\n",
      "Precision: 0.6165\n",
      "Recall: 0.9447\n",
      "F1 Score: 0.7461\n",
      "AUC-ROC Score: 0.9979\n",
      "Confusion Matrix:\n",
      "[[1230444     787]\n",
      " [     74    1265]]\n",
      "Feature Importance:\n",
      "step              0.052888\n",
      "amount            0.124862\n",
      "oldbalanceOrg     0.317180\n",
      "newbalanceOrig    0.183661\n",
      "oldbalanceDest    0.049505\n",
      "newbalanceDest    0.062301\n",
      "isFlaggedFraud    0.000049\n",
      "type_CASH_OUT     0.041396\n",
      "type_DEBIT        0.000557\n",
      "type_PAYMENT      0.084793\n",
      "type_TRANSFER     0.082809\n",
      "dtype: float64\n",
      "Misclassified Examples:\n",
      "         step     amount  oldbalanceOrg  newbalanceOrig  oldbalanceDest  \\\n",
      "1360120   139   38942.32       38562.00             0.0       211131.05   \n",
      "1052970   129  394552.01      389868.00             0.0            0.00   \n",
      "5540021   398   55247.48       55247.48             0.0     11215285.22   \n",
      "1114304   131  114678.15      113255.00             0.0      4297902.32   \n",
      "5219965   377  213499.28      210877.98             0.0      2073580.00   \n",
      "...       ...        ...            ...             ...             ...   \n",
      "3303893   255   31694.16       31684.00             0.0      1244201.67   \n",
      "5944877   545  234171.48      211541.00             0.0       233742.13   \n",
      "4203066   308   49410.99       48446.00             0.0            0.00   \n",
      "2310018   192  144522.51      142593.29             0.0      1255111.09   \n",
      "1572503   157   43759.40       43431.00             0.0            0.00   \n",
      "\n",
      "         newbalanceDest  isFlaggedFraud  type_CASH_OUT  type_DEBIT  \\\n",
      "1360120       250073.37               0              1           0   \n",
      "1052970       394552.01               0              1           0   \n",
      "5540021     11270532.70               0              1           0   \n",
      "1114304      4412580.47               0              1           0   \n",
      "5219965      2287079.29               0              1           0   \n",
      "...                 ...             ...            ...         ...   \n",
      "3303893      1275895.83               0              1           0   \n",
      "5944877       467913.61               0              1           0   \n",
      "4203066        49410.99               0              1           0   \n",
      "2310018      1399633.61               0              1           0   \n",
      "1572503        43759.40               0              1           0   \n",
      "\n",
      "         type_PAYMENT  type_TRANSFER  True_Label  Predicted_Label  \n",
      "1360120             0              0           0                1  \n",
      "1052970             0              0           0                1  \n",
      "5540021             0              0           1                0  \n",
      "1114304             0              0           0                1  \n",
      "5219965             0              0           0                1  \n",
      "...               ...            ...         ...              ...  \n",
      "3303893             0              0           0                1  \n",
      "5944877             0              0           0                1  \n",
      "4203066             0              0           0                1  \n",
      "2310018             0              0           0                1  \n",
      "1572503             0              0           0                1  \n",
      "\n",
      "[861 rows x 13 columns]\n"
     ]
    }
   ],
   "source": [
    "# Step 1: Model Evaluation\n",
    "print(\"Model Evaluation Metrics:\")\n",
    "print(f\"Accuracy: {accuracy:.4f}\")\n",
    "print(f\"Precision: {precision:.4f}\")\n",
    "print(f\"Recall: {recall:.4f}\")\n",
    "print(f\"F1 Score: {f1:.4f}\")\n",
    "print(f\"AUC-ROC Score: {roc_auc:.4f}\")\n",
    "print(\"Confusion Matrix:\")\n",
    "print(conf_matrix)\n",
    "\n",
    "# Step 2: Feature Importance\n",
    "feature_importance = pd.Series(rf_model.feature_importances_, index=X_train.columns)\n",
    "print(\"Feature Importance:\")\n",
    "print(feature_importance)\n",
    "\n",
    "# Step 3: Error Analysis\n",
    "errors = X_val.copy()\n",
    "errors['True_Label'] = y_val\n",
    "errors['Predicted_Label'] = y_pred\n",
    "misclassified = errors[errors['True_Label'] != errors['Predicted_Label']]\n",
    "\n",
    "print(\"Misclassified Examples:\")\n",
    "print(misclassified)"
   ]
  },
  {
   "cell_type": "markdown",
   "id": "a436c4f2",
   "metadata": {},
   "source": [
    "# Interpretation"
   ]
  },
  {
   "cell_type": "markdown",
   "id": "e7c43b6c",
   "metadata": {},
   "source": [
    "Accuracy: 0.9993\n",
    "\n",
    "Accuracy measures the overall correctness of the model's predictions.\n",
    "In this case, the model has a very high accuracy of 99.93%, indicating that it correctly predicts the majority of both fraudulent and non-fraudulent transactions.\n",
    "\n",
    "Precision: 0.6165\n",
    "\n",
    "Precision represents the ability of the model to correctly identify fraudulent transactions among all the transactions predicted as fraudulent.\n",
    "In this case, the precision is 61.65%. It means that out of all the transactions the model identified as fraudulent, about 61.65% were actually fraudulent. The rest might be false positives.\n",
    "\n",
    "Recall (Sensitivity): 0.9447\n",
    "\n",
    "Recall, also known as Sensitivity or True Positive Rate, represents the model's ability to correctly identify actual fraudulent transactions among all the fraudulent transactions in the dataset.\n",
    "In this case, the recall is very high at 94.47%. It means that the model successfully detects about 94.47% of all actual fraudulent transactions.\n",
    "\n",
    "F1 Score: 0.7461\n",
    "\n",
    "The F1 Score is the harmonic mean of precision and recall, providing a balanced measure of the model's performance.\n",
    "In this case, the F1 Score is 74.61%. A higher F1 Score indicates a better balance between precision and recall.\n",
    "\n",
    "AUC-ROC Score: 0.9979\n",
    "\n",
    "The AUC-ROC Score (Area Under the Receiver Operating Characteristic curve) measures the model's ability to distinguish between the two classes (fraudulent and non-fraudulent).\n",
    "A value closer to 1.0 indicates better discrimination between the classes.\n",
    "In this case, the AUC-ROC Score is 0.9979, suggesting that the model has excellent discriminative power.\n",
    "\n",
    "Confusion Matrix:\n",
    "\n",
    "The confusion matrix provides detailed information about the model's predictions compared to the actual values.\n",
    "\n",
    "True Positives (TP): The number of correctly predicted fraudulent transactions (1265).\n",
    "True Negatives (TN): The number of correctly predicted non-fraudulent transactions (1,230,444).\n",
    "False Positives (FP): The number of non-fraudulent transactions incorrectly classified as fraudulent (787).\n",
    "False Negatives (FN): The number of fraudulent transactions incorrectly classified as non-fraudulent (74).\n",
    "\n",
    "Feature Importance:\n",
    "\n",
    "The feature importance values represent the contribution of each feature in the model's predictions. The higher the value, the more important the feature is in predicting fraud.\n",
    "\n",
    "The 'oldbalanceOrg' feature has the highest importance (31.72%). This indicates that the initial balance of the customer's account before the transaction plays a significant role in fraud detection.\n",
    "\n",
    "The 'amount' feature is also important (12.49%), suggesting that the transaction amount is a relevant factor in identifying fraudulent activities.\n",
    "\n",
    "The 'newbalanceOrig' and 'newbalanceDest' features have moderate importance (18.37% and 6.23%, respectively). These features represent the new balances of the customer's and recipient's accounts after the transaction.\n",
    "\n",
    "The 'type_PAYMENT' and 'type_TRANSFER' features are also relatively important (8.48% and 8.28%, respectively). These features indicate the type of transaction, and 'TRANSFER' transactions seem to be more indicative of fraud compared to 'PAYMENT' transactions.\n",
    "\n",
    "The 'type_CASH_OUT' feature is somewhat important (4.14%) and represents 'CASH_OUT' transactions.\n",
    "\n",
    "Other features like 'step', 'oldbalanceDest', 'type_DEBIT', and 'isFlaggedFraud' have lower importance and might have a lesser impact on the model's predictions.\n",
    "\n",
    "Overall, the model seems to perform well in detecting fraud with high accuracy, precision, recall, and AUC-ROC score. The 'oldbalanceOrg', 'amount', and 'newbalanceOrig' features appear to be critical in identifying fraudulent transactions."
   ]
  },
  {
   "cell_type": "markdown",
   "id": "7c8c690c",
   "metadata": {},
   "source": [
    "# Candidate expectations"
   ]
  },
  {
   "cell_type": "markdown",
   "id": "9eeaa2de",
   "metadata": {},
   "source": [
    "# Data Cleaning:\n",
    "\n",
    "Missing Values: Identify and handle missing values in the dataset using appropriate techniques like imputation or removal of missing data.\n",
    "Outliers: Detect and handle outliers using methods such as Z-score, IQR, or domain knowledge-based approaches.\n",
    "Multi-Collinearity: Check for multi-collinearity among the predictor variables and address it using techniques like VIF (Variance Inflation Factor) or feature selection."
   ]
  },
  {
   "cell_type": "markdown",
   "id": "7971079a",
   "metadata": {},
   "source": [
    "# Fraud Detection Model:\n",
    "\n",
    "Describe the fraud detection model you have used, such as logistic regression, random forest, or any other machine learning algorithm.\n",
    "Explain how the model works and its underlying assumptions.\n",
    "Discuss the model's strengths and limitations."
   ]
  },
  {
   "cell_type": "markdown",
   "id": "8ba72b37",
   "metadata": {},
   "source": [
    "# Variable Selection:\n",
    "\n",
    "Explain the process of selecting variables for the model, considering features like 'step', 'amount', 'oldbalanceOrg', 'newbalanceOrig', 'oldbalanceDest', 'newbalanceDest', 'isFlaggedFraud', and transaction types ('type_CASH_OUT', 'type_PAYMENT', 'type_DEBIT', 'type_TRANSFER').\n",
    "Discuss whether you used domain knowledge, statistical tests, feature importance scores, or other methods to select the variables."
   ]
  },
  {
   "cell_type": "markdown",
   "id": "c10ae33d",
   "metadata": {},
   "source": [
    "# Model Performance:\n",
    "\n",
    "Demonstrate the performance of the fraud detection model using appropriate evaluation metrics like accuracy, precision, recall, F1-score, and AUC-ROC score.\n",
    "Present a confusion matrix to show true positives, true negatives, false positives, and false negatives."
   ]
  },
  {
   "cell_type": "markdown",
   "id": "a57851b0",
   "metadata": {},
   "source": [
    "# Key Factors Predicting Fraud:\n",
    "\n",
    "Analyze the feature importance or coefficients of the selected variables to identify key factors contributing to fraud prediction.\n",
    "Interpret how the variables contribute to the model's predictions and how they are indicative of fraudulent behavior."
   ]
  },
  {
   "cell_type": "markdown",
   "id": "95a17250",
   "metadata": {},
   "source": [
    "# Interpretation of Key Factors:\n",
    "\n",
    "Discuss whether the key factors identified (e.g., 'oldbalanceOrg', 'amount', transaction types) make sense in the context of fraud detection.\n",
    "Explain how these factors align with the intuition and domain knowledge of fraud detection."
   ]
  },
  {
   "cell_type": "markdown",
   "id": "bfdfbac7",
   "metadata": {},
   "source": [
    "# Prevention Strategies:\n",
    "\n",
    "Propose prevention strategies that the company should adopt to minimize fraudulent activities.\n",
    "These strategies could include real-time transaction monitoring, two-factor authentication, anomaly detection algorithms, etc"
   ]
  },
  {
   "cell_type": "markdown",
   "id": "229489a1",
   "metadata": {},
   "source": [
    "# Evaluating Prevention:\n",
    "\n",
    "Describe how you would determine if the prevention strategies are effective.\n",
    "This could involve monitoring fraud rates over time, comparing them to historical data, and conducting A/B testing for specific prevention measures."
   ]
  },
  {
   "cell_type": "code",
   "execution_count": null,
   "id": "353784a4",
   "metadata": {},
   "outputs": [],
   "source": []
  }
 ],
 "metadata": {
  "kernelspec": {
   "display_name": "Python 3 (ipykernel)",
   "language": "python",
   "name": "python3"
  },
  "language_info": {
   "codemirror_mode": {
    "name": "ipython",
    "version": 3
   },
   "file_extension": ".py",
   "mimetype": "text/x-python",
   "name": "python",
   "nbconvert_exporter": "python",
   "pygments_lexer": "ipython3",
   "version": "3.8.0"
  }
 },
 "nbformat": 4,
 "nbformat_minor": 5
}
